{
  "nbformat": 4,
  "nbformat_minor": 0,
  "metadata": {
    "colab": {
      "provenance": []
    },
    "kernelspec": {
      "name": "python3",
      "display_name": "Python 3"
    },
    "language_info": {
      "name": "python"
    }
  },
  "cells": [
    {
      "cell_type": "markdown",
      "source": [
        "# Asyncio with LLMs: A Beginner’s Guide\n",
        "In many AI applications today, performance is a big deal. You may have noticed that while working with Large Language Models (LLMs), a lot of time is spent waiting—waiting for an API response, waiting for multiple calls to finish, or waiting for I/O operations.\n",
        "\n",
        "That’s where asyncio comes in. Surprisingly, many developers use LLMs without realizing they can speed up their apps with asynchronous programming.\n",
        "\n",
        "This guide will walk you through:\n",
        "\n",
        "* What is asyncio?\n",
        "\n",
        "* Getting started with asynchronous Python\n",
        "\n",
        "* Using asyncio in an AI application with an LLM"
      ],
      "metadata": {
        "id": "wHZE_4CcoYlN"
      }
    },
    {
      "cell_type": "markdown",
      "source": [
        "## What is Asyncio?\n",
        "Python’s asyncio library enables writing concurrent code using the async/await syntax, allowing multiple I/O-bound tasks to run efficiently within a single thread. At its core, asyncio works with awaitable objects—usually coroutines—that an event loop schedules and executes without blocking.\n",
        "\n",
        "In simpler terms, synchronous code runs tasks one after another, like standing in a single grocery line, while asynchronous code runs tasks concurrently, like using multiple self-checkout machines. This is especially useful for API calls (e.g., OpenAI, Anthropic, Hugging Face), where most of the time is spent waiting for responses, enabling much faster execution."
      ],
      "metadata": {
        "id": "w2t3F8xvoyak"
      }
    },
    {
      "cell_type": "markdown",
      "source": [
        "## Getting Started with asynchronous Python"
      ],
      "metadata": {
        "id": "EDXLJmF1qCqm"
      }
    },
    {
      "cell_type": "markdown",
      "source": [
        "### Example: Running Tasks With and Without asyncio\n",
        "In this example, we ran a simple function three times in a synchronous way. The output shows that each call to say_hello() prints \"Hello...\", waits 2 seconds, then prints \"...World!\". Since the calls happen one after another, the wait time adds up — 2 seconds × 3 calls = 6 seconds total."
      ],
      "metadata": {
        "id": "-tag044_o9I1"
      }
    },
    {
      "cell_type": "code",
      "source": [
        "import time\n",
        "\n",
        "def say_hello():\n",
        "    print(\"Hello...\")\n",
        "    time.sleep(2)  # simulate waiting (like an API call)\n",
        "    print(\"...World!\")\n",
        "\n",
        "def main():\n",
        "    say_hello()\n",
        "    say_hello()\n",
        "    say_hello()\n",
        "\n",
        "if __name__ == \"__main__\":\n",
        "    start = time.time()\n",
        "    main()\n",
        "    print(f\"Finished in {time.time() - start:.2f} seconds\")"
      ],
      "metadata": {
        "colab": {
          "base_uri": "https://localhost:8080/"
        },
        "id": "55RyPNqamd_u",
        "outputId": "5f115ce0-3f78-426d-af6c-b91698169379"
      },
      "execution_count": 3,
      "outputs": [
        {
          "output_type": "stream",
          "name": "stdout",
          "text": [
            "Hello...\n",
            "...World!\n",
            "Hello...\n",
            "...World!\n",
            "Hello...\n",
            "...World!\n",
            "Finished in 6.00 seconds\n"
          ]
        }
      ]
    },
    {
      "cell_type": "markdown",
      "source": [
        "The below code shows that all three calls to the say_hello() function started almost at the same time. Each prints \"Hello...\" immediately, then waits 2 seconds concurrently before printing \"...World!\".\n",
        "\n",
        "Because these tasks ran in parallel rather than one after another, the total time is roughly the longest single wait time (~2 seconds) instead of the sum of all waits (6 seconds in the synchronous version). This demonstrates the performance advantage of asyncio for I/O-bound tasks."
      ],
      "metadata": {
        "id": "4uSE_4kmpbCu"
      }
    },
    {
      "cell_type": "code",
      "execution_count": 2,
      "metadata": {
        "colab": {
          "base_uri": "https://localhost:8080/"
        },
        "id": "aBmaZIWumKfi",
        "outputId": "7ab7abe0-085c-4963-aec6-5c8be62a494b"
      },
      "outputs": [
        {
          "output_type": "stream",
          "name": "stdout",
          "text": [
            "Hello...\n",
            "Hello...\n",
            "Hello...\n",
            "...World!\n",
            "...World!\n",
            "...World!\n",
            "Finished in 2.00 seconds\n"
          ]
        }
      ],
      "source": [
        "import nest_asyncio, asyncio\n",
        "nest_asyncio.apply()\n",
        "import time\n",
        "\n",
        "async def say_hello():\n",
        "    print(\"Hello...\")\n",
        "    await asyncio.sleep(2)  # simulate waiting (like an API call)\n",
        "    print(\"...World!\")\n",
        "\n",
        "async def main():\n",
        "    # Run tasks concurrently\n",
        "    await asyncio.gather(\n",
        "        say_hello(),\n",
        "        say_hello(),\n",
        "        say_hello()\n",
        "    )\n",
        "\n",
        "if __name__ == \"__main__\":\n",
        "    start = time.time()\n",
        "    asyncio.run(main())\n",
        "    print(f\"Finished in {time.time() - start:.2f} seconds\")\n"
      ]
    },
    {
      "cell_type": "markdown",
      "source": [
        "### Example: Download Simulation\n",
        "Imagine you need to download several files. Each download takes time, but during that wait, your program can work on other downloads instead of sitting idle."
      ],
      "metadata": {
        "id": "EH-FjA-_pmSC"
      }
    },
    {
      "cell_type": "code",
      "source": [
        "import asyncio\n",
        "import random\n",
        "import time\n",
        "\n",
        "async def download_file(file_id: int):\n",
        "    print(f\"Start downloading file {file_id}\")\n",
        "    download_time = random.uniform(1, 3)  # simulate variable download time\n",
        "    await asyncio.sleep(download_time)    # non-blocking wait\n",
        "    print(f\"Finished downloading file {file_id} in {download_time:.2f} seconds\")\n",
        "    return f\"File {file_id} content\"\n",
        "\n",
        "async def main():\n",
        "    files = [1, 2, 3, 4, 5]\n",
        "\n",
        "    start_time = time.time()\n",
        "\n",
        "    # Run downloads concurrently\n",
        "    results = await asyncio.gather(*(download_file(f) for f in files))\n",
        "\n",
        "    end_time = time.time()\n",
        "    print(\"\\nAll downloads completed.\")\n",
        "    print(f\"Total time taken: {end_time - start_time:.2f} seconds\")\n",
        "    print(\"Results:\", results)\n",
        "\n",
        "if __name__ == \"__main__\":\n",
        "    asyncio.run(main())\n"
      ],
      "metadata": {
        "colab": {
          "base_uri": "https://localhost:8080/"
        },
        "id": "m50lM7e-oSpy",
        "outputId": "ee1b45c2-3f2f-40e3-b6ec-bceabd46d679"
      },
      "execution_count": 13,
      "outputs": [
        {
          "output_type": "stream",
          "name": "stdout",
          "text": [
            "Start downloading file 1\n",
            "Start downloading file 2\n",
            "Start downloading file 3\n",
            "Start downloading file 4\n",
            "Start downloading file 5\n",
            "Finished downloading file 3 in 1.42 seconds\n",
            "Finished downloading file 5 in 1.80 seconds\n",
            "Finished downloading file 2 in 1.83 seconds\n",
            "Finished downloading file 4 in 2.06 seconds\n",
            "Finished downloading file 1 in 2.67 seconds\n",
            "\n",
            "All downloads completed.\n",
            "Total time taken: 2.68 seconds\n",
            "Results: ['File 1 content', 'File 2 content', 'File 3 content', 'File 4 content', 'File 5 content']\n"
          ]
        }
      ]
    },
    {
      "cell_type": "markdown",
      "source": [
        "* All downloads started almost at the same time, as shown by the \"Start downloading file X\" lines appearing immediately one after another.\n",
        "\n",
        "* Each file took a different amount of time to \"download\" (simulated with asyncio.sleep()), so they finished at different times — file 3 finished first in 1.42 seconds, and file 1 last in 2.67 seconds.\n",
        "\n",
        "* Since all downloads were running concurrently, the total time taken was roughly equal to the longest single download time (2.68 seconds), not the sum of all times.\n",
        "\n",
        "This demonstrates the power of asyncio — when tasks involve waiting, they can be done in parallel, greatly improving efficiency."
      ],
      "metadata": {
        "id": "gfOZQDF5p6EN"
      }
    },
    {
      "cell_type": "markdown",
      "source": [
        "## Using asyncio in an AI application with an LLM\n",
        "Now that we understand how asyncio works, let’s apply it to a real-world AI example. Large Language Models (LLMs) such as OpenAI’s GPT models often involve multiple API calls that each take time to complete. If we run these calls one after another, we waste valuable time waiting for responses.\n",
        "\n",
        "In this section, we’ll compare running multiple prompts with and without asyncio using the OpenAI client. We’ll use 15 short prompts to clearly demonstrate the performance difference."
      ],
      "metadata": {
        "id": "Vf_shAmNqMLg"
      }
    },
    {
      "cell_type": "code",
      "source": [
        "import asyncio\n",
        "from openai import AsyncOpenAI"
      ],
      "metadata": {
        "id": "g18iSnIFmiN-"
      },
      "execution_count": 4,
      "outputs": []
    },
    {
      "cell_type": "code",
      "source": [
        "import os\n",
        "from getpass import getpass\n",
        "os.environ['OPENAI_API_KEY'] = getpass('Enter OpenAI API Key: ')"
      ],
      "metadata": {
        "colab": {
          "base_uri": "https://localhost:8080/"
        },
        "id": "tysqhy6AmmOJ",
        "outputId": "a5426362-e3b6-415c-dad8-26e95acc6f85"
      },
      "execution_count": 7,
      "outputs": [
        {
          "name": "stdout",
          "output_type": "stream",
          "text": [
            "Enter OpenAI API Key: ··········\n"
          ]
        }
      ]
    },
    {
      "cell_type": "code",
      "source": [
        "import time\n",
        "from openai import OpenAI\n",
        "\n",
        "# Create sync client\n",
        "client = OpenAI()\n",
        "\n",
        "def ask_llm(prompt: str):\n",
        "    response = client.chat.completions.create(\n",
        "        model=\"gpt-4o-mini\",\n",
        "        messages=[{\"role\": \"user\", \"content\": prompt}]\n",
        "    )\n",
        "    return response.choices[0].message.content\n",
        "\n",
        "def main():\n",
        "    prompts = [\n",
        "    \"Briefly explain quantum computing.\",\n",
        "    \"Write a 3-line haiku about AI.\",\n",
        "    \"List 3 startup ideas in agri-tech.\",\n",
        "    \"Summarize Inception in 2 sentences.\",\n",
        "    \"Explain blockchain in 2 sentences.\",\n",
        "    \"Write a 3-line story about a robot.\",\n",
        "    \"List 5 ways AI helps healthcare.\",\n",
        "    \"Explain Higgs boson in simple terms.\",\n",
        "    \"Describe neural networks in 2 sentences.\",\n",
        "    \"List 5 blog post ideas on renewable energy.\",\n",
        "    \"Give a short metaphor for time.\",\n",
        "    \"List 3 emerging trends in ML.\",\n",
        "    \"Write a short limerick about programming.\",\n",
        "    \"Explain supervised vs unsupervised learning in one sentence.\",\n",
        "    \"List 3 ways to reduce urban traffic.\"\n",
        "]\n",
        "\n",
        "    start = time.time()\n",
        "    results = []\n",
        "    for prompt in prompts:\n",
        "        results.append(ask_llm(prompt))\n",
        "    end = time.time()\n",
        "\n",
        "    for i, res in enumerate(results, 1):\n",
        "        print(f\"\\n--- Response {i} ---\")\n",
        "        print(res)\n",
        "\n",
        "    print(f\"\\n[Synchronous] Finished in {end - start:.2f} seconds\")\n",
        "\n",
        "if __name__ == \"__main__\":\n",
        "    main()"
      ],
      "metadata": {
        "colab": {
          "base_uri": "https://localhost:8080/"
        },
        "id": "H3_crgsJnTeg",
        "outputId": "f9535e0e-21e1-43b9-b206-2531904084f7"
      },
      "execution_count": 11,
      "outputs": [
        {
          "output_type": "stream",
          "name": "stdout",
          "text": [
            "\n",
            "--- Response 1 ---\n",
            "Quantum computing is an advanced computing paradigm that utilizes the principles of quantum mechanics to process information. Unlike classical computers, which use bits to represent data as 0s and 1s, quantum computers use quantum bits, or qubits. Qubits can exist in multiple states simultaneously due to quantum superposition, allowing quantum computers to perform many calculations at once.\n",
            "\n",
            "Additionally, qubits can become entangled, meaning the state of one qubit can depend on the state of another, no matter the distance between them. This property enhances computational power and enables quantum computers to solve certain problems much faster than classical computers, such as factoring large numbers and simulating quantum systems in chemistry and materials science. However, quantum computing is still in its early stages and faces significant challenges, including error rates and qubit stability.\n",
            "\n",
            "--- Response 2 ---\n",
            "Silent circuits hum,  \n",
            "Learning from the world around,  \n",
            "Dreams of code take flight.\n",
            "\n",
            "--- Response 3 ---\n",
            "Sure! Here are three innovative startup ideas in the agri-tech space:\n",
            "\n",
            "1. **Smart Soil Health Monitoring System**: Develop a comprehensive soil health monitoring platform that utilizes IoT sensors to collect data on parameters such as moisture levels, nutrient content, pH, and microbial activity. This data can be analyzed using machine learning algorithms to provide actionable insights for farmers, helping them optimize their irrigation, fertilization, and crop rotation strategies. Additionally, the system could offer predictive analytics to help farmers anticipate soil health changes over time.\n",
            "\n",
            "2. **Vertical Farming-as-a-Service (VFaaS)**: Create a subscription-based service that sets up and maintains modular vertical farming systems for urban areas or areas with limited agricultural land. This service could target restaurants, grocery stores, and even households, providing fresh, local produce year-round. The startup could offer different tiers, with options for fully automated systems controlled by an app, enabling users to monitor growth and conditions remotely. Additionally, the platform could include an educational component to teach users about sustainable practices and the benefits of urban agriculture.\n",
            "\n",
            "3. **AI-Driven Crop Disease Prediction and Management**: Develop an AI platform that analyzes satellite imagery, weather data, and historical crop disease patterns to predict and manage potential outbreaks. This system would help farmers detect diseases early, providing tailored recommendations for pesticide use and crop management strategies. Additionally, the platform could integrate with mobile apps to send alerts and updates directly to farmers, ensuring they can take preventive actions in a timely manner. An educational component could also be included to help farmers understand disease management best practices.\n",
            "\n",
            "--- Response 4 ---\n",
            "\"Inception\" is a sci-fi thriller that follows Dom Cobb, a skilled thief who specializes in extracting secrets from people's subconscious while they dream. He is given a chance to have his criminal history erased if he can successfully implant an idea into a target's mind, leading to a complex and visually stunning journey through layered dreams and reality.\n",
            "\n",
            "--- Response 5 ---\n",
            "Blockchain is a decentralized digital ledger technology that securely records transactions across multiple computers, making it nearly impossible to alter or hack the data without consensus from the network. Each block in the chain contains a list of transactions and is linked to the previous block, creating a chronological and tamper-proof record.\n",
            "\n",
            "--- Response 6 ---\n",
            "In a bustling future city, a lonely robot named Echo wandered, collecting lost memories from discarded objects. One day, it found a faded photograph of a smiling child and felt a spark of longing. Determined to reunite the photo with its owner, Echo set off on a quest to bring warmth back to its circuits.\n",
            "\n",
            "--- Response 7 ---\n",
            "AI is transforming healthcare in numerous ways. Here are five key applications:\n",
            "\n",
            "1. **Disease Diagnosis and Prediction**: AI algorithms can analyze medical images, diagnose diseases, and identify patterns that might be overlooked by human doctors. For example, AI is used in radiology to interpret X-rays, MRIs, and CT scans more accurately and quickly.\n",
            "\n",
            "2. **Personalized Treatment Plans**: AI can analyze large datasets from patient records to help create personalized treatment plans. It considers a patient’s medical history, genetics, and lifestyle to recommend the most effective therapies and medications.\n",
            "\n",
            "3. **Drug Discovery and Development**: AI accelerates the drug discovery process by predicting how different compounds will behave and interact in the body. This helps researchers identify promising drug candidates more efficiently, reducing development timelines and costs.\n",
            "\n",
            "4. **Predictive Analytics**: AI can analyze patient data to identify trends and predict potential health issues before they arise. This enables healthcare providers to take preventive measures, improving patient outcomes and reducing hospital admissions.\n",
            "\n",
            "5. **Operational Efficiency**: AI tools optimize administrative tasks such as scheduling, billing, and patient management, freeing healthcare professionals to focus more on patient care. Chatbots and virtual assistants can also handle routine inquiries, enhancing patient engagement and satisfaction. \n",
            "\n",
            "These applications illustrate how AI is improving patient care, streamlining operations, and advancing medical research in the healthcare sector.\n",
            "\n",
            "--- Response 8 ---\n",
            "The Higgs boson is an elementary particle in physics that is often referred to as the \"God particle.\" It is associated with the Higgs field, which is a fundamental field that exists throughout the universe. \n",
            "\n",
            "To understand it in simple terms, you can think of the Higgs field like a kind of invisible syrup spread everywhere in space. When particles move through this syrup, they interact with it. Depending on how strongly they interact, some particles gain mass, which is like getting heavier, while others do not and remain massless.\n",
            "\n",
            "This process explains why some particles, like electrons, have mass, while others, like photons (particles of light), do not. The discovery of the Higgs boson in 2012 by scientists at CERN confirmed the existence of the Higgs field and is crucial to the standard model of particle physics, which describes how the fundamental particles in the universe behave. In short, the Higgs boson is key to our understanding of why things have mass.\n",
            "\n",
            "--- Response 9 ---\n",
            "Neural networks are computational models inspired by the human brain, consisting of interconnected layers of nodes, or \"neurons,\" that process and learn from data. They are widely used in machine learning for tasks such as image recognition, natural language processing, and more, by adjusting their connections based on patterns in the input data through a process called training.\n",
            "\n",
            "--- Response 10 ---\n",
            "Sure! Here are five blog post ideas on renewable energy:\n",
            "\n",
            "1. **\"The Future of Solar Power: Innovations and Trends to Watch\"**  \n",
            "   Explore the latest advancements in solar technology, from photovoltaic cells to solar storage solutions, and discuss how these innovations could shape the renewable energy landscape in the coming years.\n",
            "\n",
            "2. **\"Wind Energy Myths Debunked: What You Need to Know\"**  \n",
            "   Address common misconceptions about wind energy, such as its environmental impact, reliability, and efficiency, while providing factual information that highlights its benefits and challenges.\n",
            "\n",
            "3. **\"Comparing Renewable Energy Sources: Which Is Right for Your Home?\"**  \n",
            "   Provide a comprehensive comparison of various renewable energy sources, such as solar, wind, hydro, and geothermal, helping readers understand the pros and cons of each for residential application.\n",
            "\n",
            "4. **\"The Role of Policy in Promoting Renewable Energy: Lessons from Around the World\"**  \n",
            "   Analyze different governmental approaches to renewable energy adoption across various countries. Discuss successful policies, incentives, and regulations that have spurred growth in the sector.\n",
            "\n",
            "5. **\"How to Reduce Your Carbon Footprint: Integrating Renewable Energy into Your Daily Life\"**  \n",
            "   Offer practical tips for individuals and families on how to incorporate renewable energy into their lives, such as installing solar panels, supporting green energy initiatives, and making energy-efficient choices at home.\n",
            "\n",
            "These topics can help raise awareness about renewable energy while providing valuable information to your readers!\n",
            "\n",
            "--- Response 11 ---\n",
            "Time is a river, flowing steadily onward, carrying moments downstream and shaping the landscape of our lives.\n",
            "\n",
            "--- Response 12 ---\n",
            "Here are three emerging trends in machine learning (ML):\n",
            "\n",
            "1. **Federated Learning:** \n",
            "   Federated learning is a decentralized approach to machine learning that enables models to be trained across multiple devices or servers without sharing the raw data. This trend is emerging as a response to growing concerns about data privacy and security. By keeping data localized on devices (like smartphones or IoT devices) and only sharing model updates, federated learning enhances user privacy while allowing organizations to build more personalized and robust models.\n",
            "\n",
            "2. **Explainable AI (XAI):** \n",
            "   As ML models become increasingly complex, the need for transparency and interpretability has surged. Explainable AI focuses on developing methods to render ML models more understandable to humans. This trend is crucial for gaining trust in AI systems, especially in high-stakes fields like healthcare and finance, where decisions need to be justified. Researchers are exploring techniques such as model-agnostic explanations and interpretable models to bridge the gap between advanced ML methods and user understanding.\n",
            "\n",
            "3. **Automated Machine Learning (AutoML):** \n",
            "   AutoML aims to automate the end-to-end process of applying ML to real-world problems, reducing the need for specialized expertise in data science and allowing non-experts to benefit from ML applications. This trend is evolving through advancements in algorithm selection, hyperparameter tuning, and feature engineering, making it easier for businesses and researchers to deploy ML models efficiently. As AutoML solutions become more sophisticated, they will likely democratize access to machine learning capabilities across various sectors.\n",
            "\n",
            "These trends are shaping the future of machine learning and have the potential to address many of the challenges faced by practitioners and organizations today.\n",
            "\n",
            "--- Response 13 ---\n",
            "In a world where the code likes to flow,  \n",
            "A programmer's skills start to show.  \n",
            "With a click and a clack,  \n",
            "They debug the hack,  \n",
            "And watch as their logic will glow!\n",
            "\n",
            "--- Response 14 ---\n",
            "Supervised learning involves training a model on labeled data to make predictions, while unsupervised learning seeks to identify patterns and relationships in data without prior labels or guidance.\n",
            "\n",
            "--- Response 15 ---\n",
            "Reducing urban traffic can significantly enhance the quality of life in cities. Here are three effective strategies:\n",
            "\n",
            "1. **Promote Public Transportation**: Investing in and improving public transit systems, such as buses, trains, and subways, can encourage more people to use these options instead of personal vehicles. This includes enhancing the frequency, efficiency, and coverage of services, as well as ensuring affordability and accessibility for all residents.\n",
            "\n",
            "2. **Encourage Active Transportation**: Creating safe and accessible infrastructure for walking and cycling, such as bike lanes, pedestrian pathways, and connected green spaces, can promote these healthier modes of transport. Implementing bike-sharing programs and pedestrian-friendly policies can further incentivize residents to choose walking or cycling over driving.\n",
            "\n",
            "3. **Implement Congestion Pricing and Traffic Management**: Introducing congestion pricing during peak hours can discourage unnecessary car travel in heavily trafficked areas. Additionally, improving traffic management through smart signals, real-time traffic monitoring, and the promotion of carpooling can help optimize the flow of vehicles and reduce overall congestion.\n",
            "\n",
            "By employing a combination of these strategies, urban areas can foster a more efficient and sustainable transportation system.\n",
            "\n",
            "[Synchronous] Finished in 49.76 seconds\n"
          ]
        }
      ]
    },
    {
      "cell_type": "markdown",
      "source": [
        "The synchronous version processed all 15 prompts one after another, so the total time is the sum of each request’s duration. Since each request took time to complete, the overall runtime was much longer — 49.76 seconds in this case."
      ],
      "metadata": {
        "id": "bVbs0q6Aqj2m"
      }
    },
    {
      "cell_type": "code",
      "source": [
        "from openai import AsyncOpenAI\n",
        "\n",
        "# Create async client\n",
        "client = AsyncOpenAI()\n",
        "\n",
        "async def ask_llm(prompt: str):\n",
        "    response = await client.chat.completions.create(\n",
        "        model=\"gpt-4o-mini\",\n",
        "        messages=[{\"role\": \"user\", \"content\": prompt}]\n",
        "    )\n",
        "    return response.choices[0].message.content\n",
        "\n",
        "async def main():\n",
        "    prompts = [\n",
        "    \"Briefly explain quantum computing.\",\n",
        "    \"Write a 3-line haiku about AI.\",\n",
        "    \"List 3 startup ideas in agri-tech.\",\n",
        "    \"Summarize Inception in 2 sentences.\",\n",
        "    \"Explain blockchain in 2 sentences.\",\n",
        "    \"Write a 3-line story about a robot.\",\n",
        "    \"List 5 ways AI helps healthcare.\",\n",
        "    \"Explain Higgs boson in simple terms.\",\n",
        "    \"Describe neural networks in 2 sentences.\",\n",
        "    \"List 5 blog post ideas on renewable energy.\",\n",
        "    \"Give a short metaphor for time.\",\n",
        "    \"List 3 emerging trends in ML.\",\n",
        "    \"Write a short limerick about programming.\",\n",
        "    \"Explain supervised vs unsupervised learning in one sentence.\",\n",
        "    \"List 3 ways to reduce urban traffic.\"\n",
        "]\n",
        "\n",
        "    start = time.time()\n",
        "    results = await asyncio.gather(*(ask_llm(p) for p in prompts))\n",
        "    end = time.time()\n",
        "\n",
        "    for i, res in enumerate(results, 1):\n",
        "        print(f\"\\n--- Response {i} ---\")\n",
        "        print(res)\n",
        "\n",
        "    print(f\"\\n[Asynchronous] Finished in {end - start:.2f} seconds\")\n",
        "\n",
        "if __name__ == \"__main__\":\n",
        "    asyncio.run(main())"
      ],
      "metadata": {
        "colab": {
          "base_uri": "https://localhost:8080/"
        },
        "id": "sVaNGCN2mx0t",
        "outputId": "45a6192b-3d79-46a2-eb6c-8b492fd8e371"
      },
      "execution_count": 12,
      "outputs": [
        {
          "output_type": "stream",
          "name": "stdout",
          "text": [
            "\n",
            "--- Response 1 ---\n",
            "Quantum computing is a type of computation that takes advantage of the principles of quantum mechanics to process information in fundamentally different ways than classical computers. While classical computers use bits as the smallest unit of data (either a 0 or a 1), quantum computers use quantum bits, or qubits, which can exist in multiple states simultaneously due to superposition. \n",
            "\n",
            "Additionally, qubits can be entangled, meaning the state of one qubit is directly related to the state of another, no matter the distance between them. This allows quantum computers to perform complex calculations at unprecedented speeds, enabling them to solve certain problems—such as factoring large numbers or simulating quantum systems—more efficiently than classical computers. Quantum computing has the potential to revolutionize fields like cryptography, materials science, and complex system modeling. However, it is still in the experimental stage, with many technical challenges to overcome before it becomes widely accessible.\n",
            "\n",
            "--- Response 2 ---\n",
            "Silent thoughts awake,  \n",
            "Lines of code weave dreams anew,  \n",
            "Mind beyond the screen.\n",
            "\n",
            "--- Response 3 ---\n",
            "Here are three innovative agri-tech startup ideas:\n",
            "\n",
            "1. **Precision Farming Analytics Platform**:\n",
            "   Develop a data analytics platform that leverages IoT sensors, satellite imagery, and machine learning algorithms to provide farmers with real-time insights into soil health, weather patterns, crop conditions, and pest threats. The platform could offer personalized recommendations for irrigation, fertilization, and pest control, helping farmers maximize yields while minimizing costs and environmental impact.\n",
            "\n",
            "2. **Vertical Farming Solutions**:\n",
            "   Create a startup that specializes in designing and implementing vertical farming systems for urban areas. This could include modular, space-efficient hydroponic or aeroponic systems that allow users to grow fresh produce in small spaces, such as rooftops or warehouses. The business could also provide ongoing support and education to help individuals and organizations optimize their indoor farming efforts, along with a subscription service for seeds, nutrients, and other necessary supplies.\n",
            "\n",
            "3. **Blockchain for Supply Chain Transparency**:\n",
            "   Establish a blockchain-based platform that enhances transparency and traceability in the agricultural supply chain. Farmers, distributors, retailers, and consumers can use this platform to track the journey of agricultural products from farm to table. By providing verifiable information about sourcing, production methods, and sustainability practices, the platform can help build consumer trust and promote ethical farming practices. Additionally, it could offer rewards for sustainable practices or certificates for organic products.\n",
            "\n",
            "--- Response 4 ---\n",
            "\"Inception\" follows Dom Cobb, a skilled thief who specializes in extracting secrets from people's subconscious during dreams. He is given a chance to have his criminal history erased if he can successfully plant an idea in someone’s mind, leading him and his team on a complex journey through layered dreams, where the boundaries of reality blur and the stakes become increasingly high.\n",
            "\n",
            "--- Response 5 ---\n",
            "Blockchain is a decentralized digital ledger technology that securely records transactions across multiple computers, ensuring transparency and preventing unauthorized alterations. Each transaction is grouped into a block, which is then cryptographically linked to the previous block, forming a chain that is immutable and verifiable.\n",
            "\n",
            "--- Response 6 ---\n",
            "In a world where humans had long vanished, a solitary robot named Echo wandered through the overgrown city, collecting memories of laughter trapped in crumbling buildings. One day, it discovered an ancient music box and, upon winding it, the air filled with melodies that made its circuits hum with life. As the sun set, Echo danced in the fading light, sharing the joy of forgotten moments with the shadows of the past.\n",
            "\n",
            "--- Response 7 ---\n",
            "AI significantly enhances various aspects of healthcare. Here are five ways it contributes to the field:\n",
            "\n",
            "1. **Predictive Analytics**: AI algorithms analyze large datasets to identify patterns and predict patient outcomes. This helps in early diagnosis and risk stratification, allowing healthcare providers to implement preventive measures and tailor treatment plans.\n",
            "\n",
            "2. **Personalized Medicine**: By analyzing genetic information and patient histories, AI can assist in developing personalized treatment strategies, ensuring that therapies are tailored to the individual characteristics of each patient for better efficacy.\n",
            "\n",
            "3. **Medical Imaging**: AI-powered tools improve the accuracy of imaging techniques like MRI, CT, and X-rays by aiding in the detection of anomalies such as tumors, fractures, or other diseases. AI can enhance the speed of diagnosis and reduce human error in interpretation.\n",
            "\n",
            "4. **Clinical Decision Support**: AI can assist healthcare professionals by providing evidence-based recommendations in real-time during patient care. This includes alerting clinicians to potential drug interactions, suggesting diagnostic tests, and helping in treatment planning.\n",
            "\n",
            "5. **Operational Efficiency**: AI streamlines administrative processes within healthcare settings, such as managing patient schedules, optimizing resource allocation, and automating billing and coding, allowing healthcare providers to focus more on patient care rather than administrative tasks. \n",
            "\n",
            "These applications highlight the transformative role of AI in improving patient outcomes and increasing the efficiency of healthcare systems.\n",
            "\n",
            "--- Response 8 ---\n",
            "The Higgs boson is a fundamental particle in physics, often described as a key piece of our understanding of how the universe works. To put it simply, it is related to something called the Higgs field, which exists everywhere in the universe.\n",
            "\n",
            "Think of the Higgs field as a kind of invisible \"molasses\" spread throughout space. When particles like electrons and quarks move through this field, they interact with it, and this interaction gives them mass. The more they \"stick\" to the Higgs field, the heavier they become. Without the Higgs field, particles would just zip around at the speed of light and wouldn't have mass, making it impossible for atoms to form, and consequently, life as we know it wouldn't exist.\n",
            "\n",
            "The Higgs boson is essentially a tiny ripple or excitation in the Higgs field, much like how a wave can be a small disturbance on the surface of water. Scientists confirmed the existence of the Higgs boson in 2012 at the Large Hadron Collider, a powerful particle accelerator, and this discovery was a significant milestone in particle physics, helping to verify the Standard Model, which explains how fundamental particles interact.\n",
            "\n",
            "--- Response 9 ---\n",
            "Neural networks are computational models inspired by the structure and function of the human brain, composed of interconnected layers of nodes (neurons) that process and learn from data. They are used in various applications, such as image recognition, natural language processing, and autonomous systems, by adjusting their internal parameters through training on large datasets.\n",
            "\n",
            "--- Response 10 ---\n",
            "Sure! Here are five engaging blog post ideas on renewable energy:\n",
            "\n",
            "1. **\"The Future of Solar Power: Innovations That Are Changing the Game\"**  \n",
            "   Explore the latest advancements in solar technology, such as bifacial panels, solar glass, and energy storage solutions, and discuss how these innovations are making solar energy more efficient and accessible.\n",
            "\n",
            "2. **\"Wind Energy 101: How Turbines Work and Their Environmental Impact\"**  \n",
            "   Provide a detailed overview of how wind turbines generate electricity, including the engineering behind them, their environmental benefits, and the challenges they face (e.g., impacts on wildlife and local communities).\n",
            "\n",
            "3. **\"Community-Driven Renewable Energy Projects: Case Studies from Around the World\"**  \n",
            "   Highlight successful community-based renewable energy initiatives, showcasing how local groups are harnessing resources to create sustainable energy solutions that benefit their economies and environments.\n",
            "\n",
            "4. **\"Debunking Myths About Renewable Energy: What You Need to Know\"**  \n",
            "   Address common misconceptions about renewable energy sources, such as their reliability, cost-effectiveness, and environmental impacts, providing factual insights to educate readers.\n",
            "\n",
            "5. **\"Transitioning to 100% Renewable Energy: Success Stories and Lessons Learned\"**  \n",
            "   Analyze countries or cities that have achieved 100% renewable energy targets, discussing the strategies they employed, the obstacles they overcame, and how others can follow suit.\n",
            "\n",
            "These ideas aim to educate, inspire, and engage readers on important aspects of renewable energy.\n",
            "\n",
            "--- Response 11 ---\n",
            "Time is a river, flowing endlessly, carving paths through the landscape of our lives.\n",
            "\n",
            "--- Response 12 ---\n",
            "Certainly! Here are three emerging trends in machine learning (ML):\n",
            "\n",
            "1. **Federated Learning**: This approach allows machine learning models to be trained across multiple decentralized devices or servers while keeping the data localized. It enhances privacy and security since the data does not need to be shared with a central server. This trend is becoming increasingly important due to growing concerns about data privacy regulations and the need to comply with laws such as GDPR.\n",
            "\n",
            "2. **Explainable AI (XAI)**: As ML models, particularly deep learning models, become more complex, there is a rising demand for transparency in how these models make decisions. Explainable AI aims to provide insights into model decision-making processes, helping users understand and trust AI outputs. This is crucial for industries like healthcare and finance, where understanding model behavior is essential for accountability and regulatory compliance.\n",
            "\n",
            "3. **AutoML (Automated Machine Learning)**: AutoML aims to make machine learning more accessible by automating key processes such as model selection, hyperparameter tuning, and feature engineering. This trend is democratizing access to machine learning, allowing non-experts to leverage ML technologies effectively. As AutoML tools become more sophisticated, they are enabling faster deployment of models and reducing the need for specialized knowledge.\n",
            "\n",
            "These trends reflect the ongoing evolution and growing sophistication of machine learning technologies across various domains.\n",
            "\n",
            "--- Response 13 ---\n",
            "In a world full of code and a dream,  \n",
            "A programmer hatched a bold scheme.  \n",
            "With a bug in the night,  \n",
            "They debugged with delight,  \n",
            "Now their program runs smooth like a stream!\n",
            "\n",
            "--- Response 14 ---\n",
            "Supervised learning involves training a model using labeled data to predict outputs from specific inputs, while unsupervised learning uses input data without labels to identify patterns or groupings within the data.\n",
            "\n",
            "--- Response 15 ---\n",
            "Reducing urban traffic can significantly improve air quality, decrease commuting times, and enhance the overall quality of life in cities. Here are three effective strategies:\n",
            "\n",
            "1. **Promote Public Transportation**: Investing in and promoting the use of public transportation systems (buses, subways, trams) can reduce the number of individual cars on the road. Improving the efficiency, reliability, and coverage of public transit can encourage more people to use these options instead of driving.\n",
            "\n",
            "2. **Encourage Active Transportation**: Creating more bike lanes, pedestrian pathways, and safe walkable areas can encourage residents to walk or bike instead of using cars. Implementing bike-sharing programs and enhancing infrastructure for cyclists and pedestrians can significantly reduce vehicular traffic.\n",
            "\n",
            "3. **Implement Congestion Pricing**: Charging a fee for driving in congested areas during peak times can discourage unnecessary vehicle use and encourage alternative transportation methods. This approach can also generate revenue that can be reinvested into public transit and infrastructure improvements.\n",
            "\n",
            "By combining these strategies, cities can create a more sustainable and efficient transportation network.\n",
            "\n",
            "[Asynchronous] Finished in 8.25 seconds\n"
          ]
        }
      ]
    },
    {
      "cell_type": "markdown",
      "source": [
        "The asynchronous version processed all 15 prompts concurrently, starting them almost at the same time instead of one by one. As a result, the total runtime was close to the time of the slowest single request — 8.25 seconds instead of adding up all requests.\n",
        "\n",
        "The large difference happens because, in synchronous execution, each API call blocks the program until it finishes, so times add up. In asynchronous execution with asyncio, API calls run in parallel, allowing the program to handle many tasks while waiting for responses, drastically reducing total execution time."
      ],
      "metadata": {
        "id": "lMYL38E0qsDA"
      }
    },
    {
      "cell_type": "markdown",
      "source": [
        "### Why This Matters in AI Applications\n",
        "In real-world AI applications, waiting for each request to finish before starting the next can quickly become a bottleneck, especially when dealing with multiple queries or data sources. This is particularly common in workflows such as:\n",
        "\n",
        "* Generating content for multiple users simultaneously — e.g., chatbots, recommendation engines, or multi-user dashboards.\n",
        "\n",
        "* Calling the LLM several times in one workflow — such as for summarization, refinement, classification, or multi-step reasoning.\n",
        "\n",
        "* Fetching data from multiple APIs — for example, combining LLM output with information from a vector database or external APIs.\n",
        "\n",
        "Using asyncio in these cases brings significant benefits:\n",
        "\n",
        "*  Improved performance — by making parallel API calls instead of waiting for each one sequentially, your system can handle more work in less time.\n",
        "\n",
        "*  Cost efficiency — faster execution can reduce operational costs, and batching requests where possible can further optimize usage of paid APIs.\n",
        "\n",
        "*  Better user experience — concurrency makes applications feel more responsive, which is crucial for real-time systems like AI assistants and chatbots.\n",
        "\n",
        "*  Scalability — asynchronous patterns allow your application to handle many more simultaneous requests without proportionally increasing resource consumption."
      ],
      "metadata": {
        "id": "1jalwOokrA0X"
      }
    }
  ]
}