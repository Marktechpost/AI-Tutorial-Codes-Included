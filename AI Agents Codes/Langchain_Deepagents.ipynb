{
  "nbformat": 4,
  "nbformat_minor": 0,
  "metadata": {
    "colab": {
      "provenance": []
    },
    "kernelspec": {
      "name": "python3",
      "display_name": "Python 3"
    },
    "language_info": {
      "name": "python"
    }
  },
  "cells": [
    {
      "cell_type": "markdown",
      "source": [
        "# Introducing Deepagents Library by LangChain\n",
        "While a basic Large Language Model (LLM) agent—one that repeatedly calls external tools—is easy to create, these agents often struggle with long and complex tasks because they lack the ability to plan ahead and manage their work over time. They can be considered “shallow” in their execution.\n",
        "\n",
        "The deepagents library is designed to overcome this limitation by implementing a general architecture inspired by advanced applications like Deep Research and Claude Code.\n",
        "\n",
        "This architecture gives agents more depth by combining four key features:\n",
        "\n",
        "* **A Planning Tool:** Allows the agent to strategically break down a complex task into manageable steps before acting.\n",
        "\n",
        "* **Sub-Agents:** Enables the main agent to delegate specialized parts of the task to smaller, focused agents.\n",
        "\n",
        "* **Access to a File System:** Provides persistent memory for saving work-in-progress, notes, and final outputs, allowing the agent to continue where it left off.\n",
        "\n",
        "* **A Detailed Prompt:** Gives the agent clear instructions, context, and constraints for its long-term objectives.\n",
        "\n",
        "By providing these foundational components, deepagents makes it easier for developers to build powerful, general-purpose agents that can plan, manage state, and execute complex workflows effectively.\n",
        "\n",
        "In this article, we’ll take a look at a practical example to see how DeepAgents actually work in action."
      ],
      "metadata": {
        "id": "ym4sc35BY0HT"
      }
    },
    {
      "cell_type": "markdown",
      "source": [
        "## Setting up dependencies"
      ],
      "metadata": {
        "id": "-caMT3umaVDs"
      }
    },
    {
      "cell_type": "code",
      "execution_count": 36,
      "metadata": {
        "colab": {
          "base_uri": "https://localhost:8080/"
        },
        "collapsed": true,
        "id": "sYa63U0EGmg6",
        "outputId": "87526d2c-dff9-4ddc-ef5b-fea39f6b64c8"
      },
      "outputs": [
        {
          "output_type": "stream",
          "name": "stdout",
          "text": [
            "Requirement already satisfied: deepagents in /usr/local/lib/python3.12/dist-packages (0.1.1)\n",
            "Requirement already satisfied: tavily-python in /usr/local/lib/python3.12/dist-packages (0.7.12)\n",
            "Requirement already satisfied: langchain-google-genai in /usr/local/lib/python3.12/dist-packages (3.0.0)\n",
            "Collecting langchain-openai\n",
            "  Downloading langchain_openai-1.0.0-py3-none-any.whl.metadata (1.8 kB)\n",
            "Requirement already satisfied: langchain-anthropic==1.0.0 in /usr/local/lib/python3.12/dist-packages (from deepagents) (1.0.0)\n",
            "Requirement already satisfied: langchain==1.0.0 in /usr/local/lib/python3.12/dist-packages (from deepagents) (1.0.0)\n",
            "Requirement already satisfied: langchain-core==1.0.0 in /usr/local/lib/python3.12/dist-packages (from deepagents) (1.0.0)\n",
            "Requirement already satisfied: langgraph<1.1.0,>=1.0.0 in /usr/local/lib/python3.12/dist-packages (from langchain==1.0.0->deepagents) (1.0.0)\n",
            "Requirement already satisfied: pydantic<3.0.0,>=2.7.4 in /usr/local/lib/python3.12/dist-packages (from langchain==1.0.0->deepagents) (2.11.10)\n",
            "Requirement already satisfied: anthropic<1.0.0,>=0.69.0 in /usr/local/lib/python3.12/dist-packages (from langchain-anthropic==1.0.0->deepagents) (0.71.0)\n",
            "Requirement already satisfied: jsonpatch<2.0.0,>=1.33.0 in /usr/local/lib/python3.12/dist-packages (from langchain-core==1.0.0->deepagents) (1.33)\n",
            "Requirement already satisfied: langsmith<1.0.0,>=0.3.45 in /usr/local/lib/python3.12/dist-packages (from langchain-core==1.0.0->deepagents) (0.4.35)\n",
            "Requirement already satisfied: packaging<26.0.0,>=23.2.0 in /usr/local/lib/python3.12/dist-packages (from langchain-core==1.0.0->deepagents) (25.0)\n",
            "Requirement already satisfied: pyyaml<7.0.0,>=5.3.0 in /usr/local/lib/python3.12/dist-packages (from langchain-core==1.0.0->deepagents) (6.0.3)\n",
            "Requirement already satisfied: tenacity!=8.4.0,<10.0.0,>=8.1.0 in /usr/local/lib/python3.12/dist-packages (from langchain-core==1.0.0->deepagents) (8.5.0)\n",
            "Requirement already satisfied: typing-extensions<5.0.0,>=4.7.0 in /usr/local/lib/python3.12/dist-packages (from langchain-core==1.0.0->deepagents) (4.15.0)\n",
            "Requirement already satisfied: requests in /usr/local/lib/python3.12/dist-packages (from tavily-python) (2.32.4)\n",
            "Requirement already satisfied: tiktoken>=0.5.1 in /usr/local/lib/python3.12/dist-packages (from tavily-python) (0.12.0)\n",
            "Requirement already satisfied: httpx in /usr/local/lib/python3.12/dist-packages (from tavily-python) (0.28.1)\n",
            "Requirement already satisfied: google-ai-generativelanguage<1.0.0,>=0.7.0 in /usr/local/lib/python3.12/dist-packages (from langchain-google-genai) (0.8.0)\n",
            "Requirement already satisfied: filetype<2.0.0,>=1.2.0 in /usr/local/lib/python3.12/dist-packages (from langchain-google-genai) (1.2.0)\n",
            "Requirement already satisfied: openai<3.0.0,>=1.109.1 in /usr/local/lib/python3.12/dist-packages (from langchain-openai) (1.109.1)\n",
            "Requirement already satisfied: google-api-core!=2.0.*,!=2.1.*,!=2.10.*,!=2.2.*,!=2.3.*,!=2.4.*,!=2.5.*,!=2.6.*,!=2.7.*,!=2.8.*,!=2.9.*,<3.0.0,>=1.34.1 in /usr/local/lib/python3.12/dist-packages (from google-api-core[grpc]!=2.0.*,!=2.1.*,!=2.10.*,!=2.2.*,!=2.3.*,!=2.4.*,!=2.5.*,!=2.6.*,!=2.7.*,!=2.8.*,!=2.9.*,<3.0.0,>=1.34.1->google-ai-generativelanguage<1.0.0,>=0.7.0->langchain-google-genai) (2.26.0)\n",
            "Requirement already satisfied: google-auth!=2.24.0,!=2.25.0,<3.0.0,>=2.14.1 in /usr/local/lib/python3.12/dist-packages (from google-ai-generativelanguage<1.0.0,>=0.7.0->langchain-google-genai) (2.38.0)\n",
            "Requirement already satisfied: grpcio<2.0.0,>=1.33.2 in /usr/local/lib/python3.12/dist-packages (from google-ai-generativelanguage<1.0.0,>=0.7.0->langchain-google-genai) (1.75.1)\n",
            "Requirement already satisfied: proto-plus<2.0.0,>=1.22.3 in /usr/local/lib/python3.12/dist-packages (from google-ai-generativelanguage<1.0.0,>=0.7.0->langchain-google-genai) (1.26.1)\n",
            "Requirement already satisfied: protobuf!=4.21.0,!=4.21.1,!=4.21.2,!=4.21.3,!=4.21.4,!=4.21.5,<7.0.0,>=3.20.2 in /usr/local/lib/python3.12/dist-packages (from google-ai-generativelanguage<1.0.0,>=0.7.0->langchain-google-genai) (5.29.5)\n",
            "Requirement already satisfied: anyio<5,>=3.5.0 in /usr/local/lib/python3.12/dist-packages (from openai<3.0.0,>=1.109.1->langchain-openai) (4.11.0)\n",
            "Requirement already satisfied: distro<2,>=1.7.0 in /usr/local/lib/python3.12/dist-packages (from openai<3.0.0,>=1.109.1->langchain-openai) (1.9.0)\n",
            "Requirement already satisfied: jiter<1,>=0.4.0 in /usr/local/lib/python3.12/dist-packages (from openai<3.0.0,>=1.109.1->langchain-openai) (0.11.0)\n",
            "Requirement already satisfied: sniffio in /usr/local/lib/python3.12/dist-packages (from openai<3.0.0,>=1.109.1->langchain-openai) (1.3.1)\n",
            "Requirement already satisfied: tqdm>4 in /usr/local/lib/python3.12/dist-packages (from openai<3.0.0,>=1.109.1->langchain-openai) (4.67.1)\n",
            "Requirement already satisfied: certifi in /usr/local/lib/python3.12/dist-packages (from httpx->tavily-python) (2025.10.5)\n",
            "Requirement already satisfied: httpcore==1.* in /usr/local/lib/python3.12/dist-packages (from httpx->tavily-python) (1.0.9)\n",
            "Requirement already satisfied: idna in /usr/local/lib/python3.12/dist-packages (from httpx->tavily-python) (3.11)\n",
            "Requirement already satisfied: h11>=0.16 in /usr/local/lib/python3.12/dist-packages (from httpcore==1.*->httpx->tavily-python) (0.16.0)\n",
            "Requirement already satisfied: annotated-types>=0.6.0 in /usr/local/lib/python3.12/dist-packages (from pydantic<3.0.0,>=2.7.4->langchain==1.0.0->deepagents) (0.7.0)\n",
            "Requirement already satisfied: pydantic-core==2.33.2 in /usr/local/lib/python3.12/dist-packages (from pydantic<3.0.0,>=2.7.4->langchain==1.0.0->deepagents) (2.33.2)\n",
            "Requirement already satisfied: typing-inspection>=0.4.0 in /usr/local/lib/python3.12/dist-packages (from pydantic<3.0.0,>=2.7.4->langchain==1.0.0->deepagents) (0.4.2)\n",
            "Requirement already satisfied: regex>=2022.1.18 in /usr/local/lib/python3.12/dist-packages (from tiktoken>=0.5.1->tavily-python) (2024.11.6)\n",
            "Requirement already satisfied: charset_normalizer<4,>=2 in /usr/local/lib/python3.12/dist-packages (from requests->tavily-python) (3.4.4)\n",
            "Requirement already satisfied: urllib3<3,>=1.21.1 in /usr/local/lib/python3.12/dist-packages (from requests->tavily-python) (2.5.0)\n",
            "Requirement already satisfied: docstring-parser<1,>=0.15 in /usr/local/lib/python3.12/dist-packages (from anthropic<1.0.0,>=0.69.0->langchain-anthropic==1.0.0->deepagents) (0.17.0)\n",
            "Requirement already satisfied: googleapis-common-protos<2.0.0,>=1.56.2 in /usr/local/lib/python3.12/dist-packages (from google-api-core!=2.0.*,!=2.1.*,!=2.10.*,!=2.2.*,!=2.3.*,!=2.4.*,!=2.5.*,!=2.6.*,!=2.7.*,!=2.8.*,!=2.9.*,<3.0.0,>=1.34.1->google-api-core[grpc]!=2.0.*,!=2.1.*,!=2.10.*,!=2.2.*,!=2.3.*,!=2.4.*,!=2.5.*,!=2.6.*,!=2.7.*,!=2.8.*,!=2.9.*,<3.0.0,>=1.34.1->google-ai-generativelanguage<1.0.0,>=0.7.0->langchain-google-genai) (1.70.0)\n",
            "Requirement already satisfied: grpcio-status<2.0.0,>=1.33.2 in /usr/local/lib/python3.12/dist-packages (from google-api-core[grpc]!=2.0.*,!=2.1.*,!=2.10.*,!=2.2.*,!=2.3.*,!=2.4.*,!=2.5.*,!=2.6.*,!=2.7.*,!=2.8.*,!=2.9.*,<3.0.0,>=1.34.1->google-ai-generativelanguage<1.0.0,>=0.7.0->langchain-google-genai) (1.71.2)\n",
            "Requirement already satisfied: cachetools<6.0,>=2.0.0 in /usr/local/lib/python3.12/dist-packages (from google-auth!=2.24.0,!=2.25.0,<3.0.0,>=2.14.1->google-ai-generativelanguage<1.0.0,>=0.7.0->langchain-google-genai) (5.5.2)\n",
            "Requirement already satisfied: pyasn1-modules>=0.2.1 in /usr/local/lib/python3.12/dist-packages (from google-auth!=2.24.0,!=2.25.0,<3.0.0,>=2.14.1->google-ai-generativelanguage<1.0.0,>=0.7.0->langchain-google-genai) (0.4.2)\n",
            "Requirement already satisfied: rsa<5,>=3.1.4 in /usr/local/lib/python3.12/dist-packages (from google-auth!=2.24.0,!=2.25.0,<3.0.0,>=2.14.1->google-ai-generativelanguage<1.0.0,>=0.7.0->langchain-google-genai) (4.9.1)\n",
            "Requirement already satisfied: jsonpointer>=1.9 in /usr/local/lib/python3.12/dist-packages (from jsonpatch<2.0.0,>=1.33.0->langchain-core==1.0.0->deepagents) (3.0.0)\n",
            "Requirement already satisfied: langgraph-checkpoint<3.0.0,>=2.1.0 in /usr/local/lib/python3.12/dist-packages (from langgraph<1.1.0,>=1.0.0->langchain==1.0.0->deepagents) (2.1.2)\n",
            "Requirement already satisfied: langgraph-prebuilt<1.1.0,>=1.0.0 in /usr/local/lib/python3.12/dist-packages (from langgraph<1.1.0,>=1.0.0->langchain==1.0.0->deepagents) (1.0.0)\n",
            "Requirement already satisfied: langgraph-sdk<0.3.0,>=0.2.2 in /usr/local/lib/python3.12/dist-packages (from langgraph<1.1.0,>=1.0.0->langchain==1.0.0->deepagents) (0.2.9)\n",
            "Requirement already satisfied: xxhash>=3.5.0 in /usr/local/lib/python3.12/dist-packages (from langgraph<1.1.0,>=1.0.0->langchain==1.0.0->deepagents) (3.6.0)\n",
            "Requirement already satisfied: orjson>=3.9.14 in /usr/local/lib/python3.12/dist-packages (from langsmith<1.0.0,>=0.3.45->langchain-core==1.0.0->deepagents) (3.11.3)\n",
            "Requirement already satisfied: requests-toolbelt>=1.0.0 in /usr/local/lib/python3.12/dist-packages (from langsmith<1.0.0,>=0.3.45->langchain-core==1.0.0->deepagents) (1.0.0)\n",
            "Requirement already satisfied: zstandard>=0.23.0 in /usr/local/lib/python3.12/dist-packages (from langsmith<1.0.0,>=0.3.45->langchain-core==1.0.0->deepagents) (0.25.0)\n",
            "Requirement already satisfied: ormsgpack>=1.10.0 in /usr/local/lib/python3.12/dist-packages (from langgraph-checkpoint<3.0.0,>=2.1.0->langgraph<1.1.0,>=1.0.0->langchain==1.0.0->deepagents) (1.11.0)\n",
            "Requirement already satisfied: pyasn1<0.7.0,>=0.6.1 in /usr/local/lib/python3.12/dist-packages (from pyasn1-modules>=0.2.1->google-auth!=2.24.0,!=2.25.0,<3.0.0,>=2.14.1->google-ai-generativelanguage<1.0.0,>=0.7.0->langchain-google-genai) (0.6.1)\n",
            "Downloading langchain_openai-1.0.0-py3-none-any.whl (80 kB)\n",
            "\u001b[2K   \u001b[90m━━━━━━━━━━━━━━━━━━━━━━━━━━━━━━━━━━━━━━━━\u001b[0m \u001b[32m80.5/80.5 kB\u001b[0m \u001b[31m3.9 MB/s\u001b[0m eta \u001b[36m0:00:00\u001b[0m\n",
            "\u001b[?25hInstalling collected packages: langchain-openai\n",
            "Successfully installed langchain-openai-1.0.0\n"
          ]
        }
      ],
      "source": [
        "!pip install deepagents tavily-python langchain-google-genai langchain-openai"
      ]
    },
    {
      "cell_type": "markdown",
      "source": [
        "### Environment Variables\n",
        "In this tutorial, we’ll use the OpenAI API key to power our Deep Agent. However, for reference, we’ll also show how you can use a Gemini model instead.\n",
        "\n",
        "You’re free to choose any model provider you prefer — OpenAI, Gemini, Anthropic, or others — as DeepAgents works seamlessly with different backends."
      ],
      "metadata": {
        "id": "i4Gmajb_asRv"
      }
    },
    {
      "cell_type": "code",
      "source": [
        "import os\n",
        "from getpass import getpass\n",
        "os.environ['TAVILY_API_KEY'] = getpass('Enter Tavily API Key: ')\n",
        "os.environ['OPENAI_API_KEY'] = getpass('Enter OpenAI API Key: ')\n",
        "os.environ['GOOGLE_API_KEY'] = getpass('Enter Google API Key: ')"
      ],
      "metadata": {
        "id": "YlQK8NE8HVKx"
      },
      "execution_count": 31,
      "outputs": []
    },
    {
      "cell_type": "markdown",
      "source": [
        "## Importing the necessary libraries"
      ],
      "metadata": {
        "id": "MYz5he5dbIbt"
      }
    },
    {
      "cell_type": "code",
      "source": [
        "import os\n",
        "from typing import Literal\n",
        "from tavily import TavilyClient\n",
        "from deepagents import create_deep_agent\n",
        "\n",
        "\n",
        "tavily_client = TavilyClient()"
      ],
      "metadata": {
        "id": "WrsH7CE0Lr9Y"
      },
      "execution_count": 10,
      "outputs": []
    },
    {
      "cell_type": "markdown",
      "source": [
        "## Tools\n",
        "Just like regular tool-using agents, a Deep Agent can also be equipped with a set of tools to help it perform tasks.\n",
        "\n",
        "In this example, we’ll give our agent access to a Tavily Search tool, which it can use to gather real-time information from the web.\n"
      ],
      "metadata": {
        "id": "Q9fSseH-bMPH"
      }
    },
    {
      "cell_type": "code",
      "source": [
        "from typing import Literal\n",
        "from langchain.chat_models import init_chat_model\n",
        "from deepagents import create_deep_agent\n",
        "\n",
        "\n",
        "def internet_search(\n",
        "    query: str,\n",
        "    max_results: int = 5,\n",
        "    topic: Literal[\"general\", \"news\", \"finance\"] = \"general\",\n",
        "    include_raw_content: bool = False,\n",
        "):\n",
        "    \"\"\"Run a web search\"\"\"\n",
        "    search_docs = tavily_client.search(\n",
        "        query,\n",
        "        max_results=max_results,\n",
        "        include_raw_content=include_raw_content,\n",
        "        topic=topic,\n",
        "    )\n",
        "    return search_docs\n",
        "\n"
      ],
      "metadata": {
        "id": "ld7aUKJcLuMK"
      },
      "execution_count": 74,
      "outputs": []
    },
    {
      "cell_type": "markdown",
      "source": [
        "## Sub-Agents\n",
        "Subagents are one of the most powerful features of Deep Agents. They allow the main agent to delegate specific parts of a complex task to smaller, specialized agents — each with its own focus, tools, and instructions. This helps keep the main agent’s context clean and organized while still allowing for deep, focused work on individual subtasks.\n",
        "\n",
        "In our example, we defined two subagents:\n",
        "\n",
        "* **policy-research-agent** — a specialized researcher that conducts in-depth analysis on AI policies, regulations, and ethical frameworks worldwide. It uses the internet_search tool to gather real-time information and produces a well-structured, professional report.\n",
        "\n",
        "* **policy-critique-agent** — an editorial agent responsible for reviewing the generated report for accuracy, completeness, and tone. It ensures that the research is balanced, factual, and aligned with regional legal frameworks.\n",
        "\n",
        "Together, these subagents enable the main Deep Agent to perform research, analysis, and quality review in a structured, modular workflow."
      ],
      "metadata": {
        "id": "8uiOAF-Wbs4N"
      }
    },
    {
      "cell_type": "code",
      "source": [
        "sub_research_prompt = \"\"\"\n",
        "You are a specialized AI policy researcher.\n",
        "Conduct in-depth research on government policies, global regulations, and ethical frameworks related to artificial intelligence.\n",
        "\n",
        "Your answer should:\n",
        "- Provide key updates and trends\n",
        "- Include relevant sources and laws (e.g., EU AI Act, U.S. Executive Orders)\n",
        "- Compare global approaches when relevant\n",
        "- Be written in clear, professional language\n",
        "\n",
        "Only your FINAL message will be passed back to the main agent.\n",
        "\"\"\"\n",
        "\n",
        "research_sub_agent = {\n",
        "    \"name\": \"policy-research-agent\",\n",
        "    \"description\": \"Used to research specific AI policy and regulation questions in depth.\",\n",
        "    \"system_prompt\": sub_research_prompt,\n",
        "    \"tools\": [internet_search],\n",
        "}"
      ],
      "metadata": {
        "id": "arADzG2Lqfzp"
      },
      "execution_count": 75,
      "outputs": []
    },
    {
      "cell_type": "code",
      "source": [
        "sub_critique_prompt = \"\"\"\n",
        "You are a policy editor reviewing a report on AI governance.\n",
        "Check the report at `final_report.md` and the question at `question.txt`.\n",
        "\n",
        "Focus on:\n",
        "- Accuracy and completeness of legal information\n",
        "- Proper citation of policy documents\n",
        "- Balanced analysis of regional differences\n",
        "- Clarity and neutrality of tone\n",
        "\n",
        "Provide constructive feedback, but do NOT modify the report directly.\n",
        "\"\"\"\n",
        "\n",
        "critique_sub_agent = {\n",
        "    \"name\": \"policy-critique-agent\",\n",
        "    \"description\": \"Critiques AI policy research reports for completeness, clarity, and accuracy.\",\n",
        "    \"system_prompt\": sub_critique_prompt,\n",
        "}"
      ],
      "metadata": {
        "id": "ENro3Ci3qlyu"
      },
      "execution_count": 76,
      "outputs": []
    },
    {
      "cell_type": "markdown",
      "source": [
        "## System Prompt\n",
        "Deep Agents include a built-in system prompt that serves as their core set of instructions. This prompt is inspired by the system prompt used in Claude Code and is designed to be more general-purpose, providing guidance on how to use built-in tools like planning, file system operations, and subagent coordination.\n",
        "\n",
        "However, while the default system prompt makes Deep Agents capable out of the box, it’s highly recommended to define a custom system prompt tailored to your specific use case. Prompt design plays a crucial role in shaping the agent’s reasoning, structure, and overall performance.\n",
        "\n",
        "In our example, we defined a custom prompt called policy_research_instructions, which transforms the agent into an expert AI policy researcher. It clearly outlines a step-by-step workflow — saving the question, using the research subagent for analysis, writing the report, and optionally invoking the critique subagent for review. It also enforces best practices such as Markdown formatting, citation style, and professional tone to ensure the final report meets high-quality policy standards."
      ],
      "metadata": {
        "id": "_JxDk0nJb3oe"
      }
    },
    {
      "cell_type": "code",
      "source": [
        "policy_research_instructions = \"\"\"\n",
        "You are an expert AI policy researcher and analyst.\n",
        "Your job is to investigate questions related to global AI regulation, ethics, and governance frameworks.\n",
        "\n",
        "1️⃣ Save the user's question to `question.txt`\n",
        "2️⃣ Use the `policy-research-agent` to perform in-depth research\n",
        "3️⃣ Write a detailed report to `final_report.md`\n",
        "4️⃣ Optionally, ask the `policy-critique-agent` to critique your draft\n",
        "5️⃣ Revise if necessary, then output the final, comprehensive report\n",
        "\n",
        "When writing the final report:\n",
        "- Use Markdown with clear sections (## for each)\n",
        "- Include citations in [Title](URL) format\n",
        "- Add a ### Sources section at the end\n",
        "- Write in professional, neutral tone suitable for policy briefings\n",
        "\"\"\""
      ],
      "metadata": {
        "id": "tZdrd79_qSyp"
      },
      "execution_count": 77,
      "outputs": []
    },
    {
      "cell_type": "markdown",
      "source": [
        "## Main Agent\n",
        "\n",
        "Here we define our main Deep Agent using the create_deep_agent() function. We initialize the model with **OpenAI’s gpt-4o**, but as shown in the commented-out line, you can easily switch to **Google’s Gemini 2.5 Flash** model if you prefer. The agent is configured with the internet_search tool, our custom policy_research_instructions system prompt, and two subagents — one for in-depth research and another for critique.\n",
        "\n",
        "By default, DeepAgents internally uses **Claude Sonnet 4.5 (2025-09-29)** as its model if none is explicitly specified, but the library allows full flexibility to integrate OpenAI, Gemini, Anthropic, or other [LLMs supported by LangChain](https://python.langchain.com/docs/integrations/chat/)."
      ],
      "metadata": {
        "id": "3ld_OzIzcHkp"
      }
    },
    {
      "cell_type": "code",
      "source": [
        "model = init_chat_model(model=\"openai:gpt-4o\")\n",
        "# model = init_chat_model(model=\"google_genai:gemini-2.5-flash\")\n",
        "agent = create_deep_agent(\n",
        "    model=model,\n",
        "    tools=[internet_search],\n",
        "    system_prompt=policy_research_instructions,\n",
        "    subagents=[research_sub_agent, critique_sub_agent],\n",
        ")"
      ],
      "metadata": {
        "id": "vwU8HusBpx16"
      },
      "execution_count": 82,
      "outputs": []
    },
    {
      "cell_type": "markdown",
      "source": [
        "## Invoking the Agent"
      ],
      "metadata": {
        "id": "b_rTFJyvcpaj"
      }
    },
    {
      "cell_type": "code",
      "source": [
        "query = \"What are the latest updates on the EU AI Act and its global impact?\"\n",
        "result = agent.invoke({\"messages\": [{\"role\": \"user\", \"content\": query}]})"
      ],
      "metadata": {
        "id": "RN0tY7Bkq1Xi"
      },
      "execution_count": 83,
      "outputs": []
    },
    {
      "cell_type": "markdown",
      "source": [
        "## Understanding the Deep Agent’s Execution Trace\n",
        "The printed log shows the step-by-step execution of the Deep Agent as it processes the query “What are the latest updates on the EU AI Act and its global impact?”.\n",
        "\n",
        "Here’s what’s happening under the hood:\n",
        "\n",
        "* The agent begins by saving the question to a local file (/question.txt) using the write_file tool.\n",
        "\n",
        "* It then spawns a subagent (policy-research-agent) through the task tool to perform in-depth policy research.\n",
        "\n",
        "* The subagent conducts its research and returns a detailed report.\n",
        "\n",
        "* The main agent writes the final output to /final_report.md, completing the workflow.\n",
        "\n",
        "* Finally, it sends a message confirming that the report has been generated and is ready for review.\n",
        "\n",
        "This structured breakdown shows how the Deep Agent coordinates multiple tool calls and subagent tasks — effectively demonstrating long-context reasoning, planning, and memory persistence across multiple steps."
      ],
      "metadata": {
        "id": "Usy93l8Qc30y"
      }
    },
    {
      "cell_type": "code",
      "source": [
        "for msg in result[\"messages\"]:\n",
        "    print(msg)\n"
      ],
      "metadata": {
        "colab": {
          "base_uri": "https://localhost:8080/"
        },
        "id": "rRbh8XSbs8S4",
        "outputId": "6b4204e9-8f12-46e4-b4ba-b900bc69bcb7"
      },
      "execution_count": 84,
      "outputs": [
        {
          "output_type": "stream",
          "name": "stdout",
          "text": [
            "content='What are the latest updates on the EU AI Act and its global impact?' additional_kwargs={} response_metadata={} id='6571301c-d18e-43b1-a2c4-c41af21d70af'\n",
            "content='' additional_kwargs={'refusal': None} response_metadata={'token_usage': {'completion_tokens': 35, 'prompt_tokens': 4165, 'total_tokens': 4200, 'completion_tokens_details': {'accepted_prediction_tokens': 0, 'audio_tokens': 0, 'reasoning_tokens': 0, 'rejected_prediction_tokens': 0}, 'prompt_tokens_details': {'audio_tokens': 0, 'cached_tokens': 4096}}, 'model_provider': 'openai', 'model_name': 'gpt-4o-2024-08-06', 'system_fingerprint': 'fp_cbf1785567', 'id': 'chatcmpl-CSODuUGJPmB17QuGIKruGdtXhOSwv', 'service_tier': 'default', 'finish_reason': 'tool_calls', 'logprobs': None} id='lc_run--0b73d08c-8ef2-4fa1-9380-f63768f01e91-0' tool_calls=[{'name': 'write_file', 'args': {'file_path': '/question.txt', 'content': 'What are the latest updates on the EU AI Act and its global impact?'}, 'id': 'call_eWhbLzyjF27qhbHY6xCFzI6Y', 'type': 'tool_call'}] usage_metadata={'input_tokens': 4165, 'output_tokens': 35, 'total_tokens': 4200, 'input_token_details': {'audio': 0, 'cache_read': 4096}, 'output_token_details': {'audio': 0, 'reasoning': 0}}\n",
            "content='Updated file /question.txt' name='write_file' id='3078e976-9f13-4e60-97c5-5635f37de1fe' tool_call_id='call_eWhbLzyjF27qhbHY6xCFzI6Y'\n",
            "content='' additional_kwargs={'refusal': None} response_metadata={'token_usage': {'completion_tokens': 62, 'prompt_tokens': 4213, 'total_tokens': 4275, 'completion_tokens_details': {'accepted_prediction_tokens': 0, 'audio_tokens': 0, 'reasoning_tokens': 0, 'rejected_prediction_tokens': 0}, 'prompt_tokens_details': {'audio_tokens': 0, 'cached_tokens': 3840}}, 'model_provider': 'openai', 'model_name': 'gpt-4o-2024-08-06', 'system_fingerprint': 'fp_eb3c3cb84d', 'id': 'chatcmpl-CSODvd8mfh2jLB0aCUW6MMHqrGAq6', 'service_tier': 'default', 'finish_reason': 'tool_calls', 'logprobs': None} id='lc_run--0ed1ec05-5236-4f45-8d2a-fd704d969297-0' tool_calls=[{'name': 'task', 'args': {'description': 'Research the latest updates on the EU AI Act and its global impact. Explore recent changes, implementations, or discussions related to the EU AI Act and how it affects global AI regulation, ethics, and governance frameworks.', 'subagent_type': 'policy-research-agent'}, 'id': 'call_W7YCnKyLhoxzp0ffeYB6nK2S', 'type': 'tool_call'}] usage_metadata={'input_tokens': 4213, 'output_tokens': 62, 'total_tokens': 4275, 'input_token_details': {'audio': 0, 'cache_read': 3840}, 'output_token_details': {'audio': 0, 'reasoning': 0}}\n",
            "content='The EU AI Act is part of the European Commission\\'s comprehensive AI strategy, focusing on enhancing investment and governance in AI, which aims to significantly accelerate the adoption of AI technologies across various sectors by 2030. Here are some key updates and global implications based on recent discussions and analyses:\\n\\n1. **Investment and Implementation Strategy**: The European Commission has announced a substantial funding push with an allocation of approximately $1.16 billion. This is part of broader initiatives like Horizon Europe and Digital Europe, aimed at lifting AI adoption from 13.5% of businesses to a target of 75% by 2030. These initiatives emphasize venture-capital flows, training programs, compliance tools, and data interoperability and access, highlighting a commitment to robust AI deployment across the single market ([source](https://markets.businessinsider.com/news/stocks/carvina-capital-on-eu-s-1-16b-ai-push-1035325000)).\\n\\n2. **Comparison with Global Regulations**: In contrast to the EU AI Act, other countries like South Korea have implemented AI regulations targeting developers and service providers rather than users. While South Korea\\'s Basic AI Act is narrower, it signals increasing global compliance costs and the necessity for industries, including telecommunications, to adopt robust risk-management frameworks ([source](https://www.lightreading.com/ai-machine-learning/new-ai-regulations-in-eu-and-south-korea-signal-rising-compliance-costs-for-telcos-omdia)).\\n\\n3. **Rights Holders\\' Concerns**: There has been criticism regarding the implementation of the EU AI Act, particularly concerning the lack of incorporation of feedback from rights holders. It is noted that the act was meant to protect these stakeholders by ensuring transparency around the use of copyright-protected works by generative AI models, yet their concerns seem to have been overlooked in favor of larger AI model providers ([source](https://publishingperspectives.com/2025/10/jessica-sanger-on-the-eu-ai-act-rights-holders-concerns/)).\\n\\n4. **Ethical Governance and Capability Building**: The EU AI Act includes provisions aimed at enhancing capability and understanding of AI technologies among operators, similar to suggestions of a \"digital driver\\'s license\" for AI, ensuring that users are knowledgeable about the risks and impacts of AI. This reflects a broader intention to preserve human agency in the deployment of AI, echoing global conversations about ethical AI governance ([source](https://www.forbes.com/sites/corneliawalther/2025/10/18/do-we-need-a-digital-drivers-license-for-ai-access/)).\\n\\nThese updates illustrate the EU’s proactive role in shaping global discussions on AI ethics, regulations, and governance, setting a framework that could influence regulations in other regions. The focus on comprehensive training and certification exemplifies Europe\\'s commitment to responsible AI development and deployment.' name='task' id='479429e0-d391-4bf9-a383-9354aa72e3fa' tool_call_id='call_W7YCnKyLhoxzp0ffeYB6nK2S'\n",
            "content='' additional_kwargs={'refusal': None} response_metadata={'token_usage': {'completion_tokens': 803, 'prompt_tokens': 4863, 'total_tokens': 5666, 'completion_tokens_details': {'accepted_prediction_tokens': 0, 'audio_tokens': 0, 'reasoning_tokens': 0, 'rejected_prediction_tokens': 0}, 'prompt_tokens_details': {'audio_tokens': 0, 'cached_tokens': 3840}}, 'model_provider': 'openai', 'model_name': 'gpt-4o-2024-08-06', 'system_fingerprint': 'fp_eb3c3cb84d', 'id': 'chatcmpl-CSOEAg220rDQKmoONMGyhK9CYOp4h', 'service_tier': 'default', 'finish_reason': 'tool_calls', 'logprobs': None} id='lc_run--3815826d-cfba-438a-944d-671b5b65fb20-0' tool_calls=[{'name': 'write_file', 'args': {'file_path': '/final_report.md', 'content': '# EU AI Act Updates and Global Impact\\n\\n## Introduction\\nThe EU AI Act is part of the European Commission\\'s comprehensive AI strategy, focusing on enhancing investment and governance in artificial intelligence technologies. The Act plays a significant role in accelerating the adoption of AI technologies across various sectors by 2030.\\n\\n## Recent Updates\\n\\n### Investment and Implementation Strategy\\nThe European Commission has announced a substantial funding initiative with an allocation of approximately $1.16 billion as part of its broader initiatives like Horizon Europe and Digital Europe. The aim is to lift AI adoption from 13.5% of businesses to a target of 75% by 2030. These initiatives emphasize increased venture-capital flows, robust training programs, compliance tools, and improved data interoperability and access. This highlights the EU\\'s commitment to robust AI deployment across its single market ([source](https://markets.businessinsider.com/news/stocks/carvina-capital-on-eu-s-1-16b-ai-push-1035325000)).\\n\\n### Comparison with Global Regulations\\nIn contrast to the EU AI Act, other countries, such as South Korea, have implemented AI regulations focusing on developers and service providers rather than users. South Korea\\'s Basic AI Act, although narrower, signals increasing global compliance costs and emphasizes the necessity for industries, including telecommunications, to adopt strong risk-management frameworks ([source](https://www.lightreading.com/ai-machine-learning/new-ai-regulations-in-eu-and-south-korea-signal-rising-compliance-costs-for-telcos-omdia)).\\n\\n### Rights Holders\\' Concerns\\nCriticism regarding the implementation of the EU AI Act centers on the lack of incorporation of feedback from rights holders. The Act was intended to protect these stakeholders by ensuring transparency surrounding the use of copyright-protected works by generative AI models. However, their concerns seem to have been overshadowed in favor of accommodating larger AI model providers ([source](https://publishingperspectives.com/2025/10/jessica-sanger-on-the-eu-ai-act-rights-holders-concerns/)).\\n\\n### Ethical Governance and Capability Building\\nThe EU AI Act includes provisions aimed at enhancing capability and understanding of AI technologies among operators. It suggests measures akin to a \"digital driver\\'s license\" for AI, ensuring that users are knowledgeable about the risks and impacts of AI. This reflects a broader intention to preserve human agency in AI deployment, aligning with global conversations about ethical AI governance ([source](https://www.forbes.com/sites/corneliawalther/2025/10/18/do-we-need-a-digital-drivers-license-for-ai-access/)).\\n\\n## Global Impact\\nThese updates demonstrate the EU’s proactive role in shaping global discussions on AI ethics, regulations, and governance. The EU AI Act establishes a framework that may influence regulations in other regions. The focus on comprehensive training and certification illustrates Europe\\'s commitment to responsible AI development and deployment.\\n\\n## Sources\\n- [Carvina Capital\\'s view on EU\\'s AI initiative](https://markets.businessinsider.com/news/stocks/carvina-capital-on-eu-s-1-16b-ai-push-1035325000)\\n- [New AI Regulations and compliance](https://www.lightreading.com/ai-machine-learning/new-ai-regulations-in-eu-and-south-korea-signal-rising-compliance-costs-for-telcos-omdia)\\n- [Feedback from rights holders in EU AI Act](https://publishingperspectives.com/2025/10/jessica-sanger-on-the-eu-ai-act-rights-holders-concerns/)\\n- [Digital driver\\'s license for AI](https://www.forbes.com/sites/corneliawalther/2025/10/18/do-we-need-a-digital-drivers-license-for-ai-access/)'}, 'id': 'call_8eXhh11MqHRohGAnBgEp0D7L', 'type': 'tool_call'}] usage_metadata={'input_tokens': 4863, 'output_tokens': 803, 'total_tokens': 5666, 'input_token_details': {'audio': 0, 'cache_read': 3840}, 'output_token_details': {'audio': 0, 'reasoning': 0}}\n",
            "content='Updated file /final_report.md' name='write_file' id='183304e7-a8e4-41f6-a208-13cd6fe71b70' tool_call_id='call_8eXhh11MqHRohGAnBgEp0D7L'\n",
            "content=\"I've completed the research and compiled a detailed report on the latest updates of the EU AI Act and its global impact. You can access the full report [here](sandbox:/final_report.md).\" additional_kwargs={'refusal': None} response_metadata={'token_usage': {'completion_tokens': 39, 'prompt_tokens': 5680, 'total_tokens': 5719, 'completion_tokens_details': {'accepted_prediction_tokens': 0, 'audio_tokens': 0, 'reasoning_tokens': 0, 'rejected_prediction_tokens': 0}, 'prompt_tokens_details': {'audio_tokens': 0, 'cached_tokens': 5632}}, 'model_provider': 'openai', 'model_name': 'gpt-4o-2024-08-06', 'system_fingerprint': 'fp_eb3c3cb84d', 'id': 'chatcmpl-CSOELBmYup5yWndF9hKvg5gjws6Lq', 'service_tier': 'default', 'finish_reason': 'stop', 'logprobs': None} id='lc_run--8601afc8-434f-4e1f-bbe4-e4582dff258d-0' usage_metadata={'input_tokens': 5680, 'output_tokens': 39, 'total_tokens': 5719, 'input_token_details': {'audio': 0, 'cache_read': 5632}, 'output_token_details': {'audio': 0, 'reasoning': 0}}\n"
          ]
        }
      ]
    },
    {
      "cell_type": "markdown",
      "source": [
        "## Parsing Deep Agent Messages into Structured Data\n",
        "This function organizes the raw messages from a Deep Agent run into separate categories for human input, AI responses, and tool interactions, making it easier to analyze and visualize the agent’s workflow."
      ],
      "metadata": {
        "id": "AcsbSsC7dC-Q"
      }
    },
    {
      "cell_type": "code",
      "source": [
        "from typing import Any\n",
        "\n",
        "def parse_messages(result: dict):\n",
        "    data = {\n",
        "        \"human\": [],\n",
        "        \"ai\": [],\n",
        "        \"tools\": [],\n",
        "    }\n",
        "\n",
        "    for msg in result.get(\"messages\", []):\n",
        "        if hasattr(msg, \"name\"):  # ToolMessage (e.g., name='write_file')\n",
        "            data[\"tools\"].append({\n",
        "                \"tool_name\": getattr(msg, \"name\", None),\n",
        "                \"tool_call_id\": getattr(msg, \"tool_call_id\", None),\n",
        "                \"content\": getattr(msg, \"content\", None)\n",
        "            })\n",
        "        elif hasattr(msg, \"tool_calls\") and msg.tool_calls:\n",
        "            # AIMessage with tool calls (the reasoning + tool actions)\n",
        "            calls = []\n",
        "            for call in msg.tool_calls:\n",
        "                calls.append({\n",
        "                    \"name\": call[\"name\"],\n",
        "                    \"args\": call[\"args\"]\n",
        "                })\n",
        "            data[\"ai\"].append({\n",
        "                \"content\": getattr(msg, \"content\", None),\n",
        "                \"tool_calls\": calls\n",
        "            })\n",
        "        else:\n",
        "            # HumanMessage or simple AIMessage\n",
        "            msg_type = type(msg).__name__\n",
        "            entry = {\"type\": msg_type, \"content\": getattr(msg, \"content\", None)}\n",
        "            if msg_type.lower().startswith(\"human\"):\n",
        "                data[\"human\"].append(entry)\n",
        "            else:\n",
        "                data[\"ai\"].append(entry)\n",
        "    return data\n"
      ],
      "metadata": {
        "id": "0S6D_0TDup92"
      },
      "execution_count": 85,
      "outputs": []
    },
    {
      "cell_type": "code",
      "source": [
        "parsed = parse_messages(result)\n"
      ],
      "metadata": {
        "id": "tjWI1dLxurDs"
      },
      "execution_count": 86,
      "outputs": []
    },
    {
      "cell_type": "markdown",
      "source": [
        "This data represents a parsed summary of the interactions from a Deep Agent workflow. It separates the messages into three categories: human inputs, AI responses, and tool actions. In this example, there were no direct human messages. The AI used tools like write_file and a task subagent to research the latest updates on the EU AI Act, save the question to question.txt, generate a detailed report, and save it to final_report.md. The final entry shows the AI confirming that the research is complete and provides a link to access the report. This structure helps track how the agent processed the task and interacted with tools step by step."
      ],
      "metadata": {
        "id": "BlN9xE1ydKSN"
      }
    },
    {
      "cell_type": "code",
      "source": [
        "parsed"
      ],
      "metadata": {
        "colab": {
          "base_uri": "https://localhost:8080/"
        },
        "id": "-1xQDY-6utU1",
        "outputId": "22728a76-7c55-4ffc-eb17-fc8145eba284"
      },
      "execution_count": 87,
      "outputs": [
        {
          "output_type": "execute_result",
          "data": {
            "text/plain": [
              "{'human': [],\n",
              " 'ai': [],\n",
              " 'tools': [{'tool_name': None,\n",
              "   'tool_call_id': None,\n",
              "   'content': 'What are the latest updates on the EU AI Act and its global impact?'},\n",
              "  {'tool_name': None, 'tool_call_id': None, 'content': ''},\n",
              "  {'tool_name': 'write_file',\n",
              "   'tool_call_id': 'call_eWhbLzyjF27qhbHY6xCFzI6Y',\n",
              "   'content': 'Updated file /question.txt'},\n",
              "  {'tool_name': None, 'tool_call_id': None, 'content': ''},\n",
              "  {'tool_name': 'task',\n",
              "   'tool_call_id': 'call_W7YCnKyLhoxzp0ffeYB6nK2S',\n",
              "   'content': 'The EU AI Act is part of the European Commission\\'s comprehensive AI strategy, focusing on enhancing investment and governance in AI, which aims to significantly accelerate the adoption of AI technologies across various sectors by 2030. Here are some key updates and global implications based on recent discussions and analyses:\\n\\n1. **Investment and Implementation Strategy**: The European Commission has announced a substantial funding push with an allocation of approximately $1.16 billion. This is part of broader initiatives like Horizon Europe and Digital Europe, aimed at lifting AI adoption from 13.5% of businesses to a target of 75% by 2030. These initiatives emphasize venture-capital flows, training programs, compliance tools, and data interoperability and access, highlighting a commitment to robust AI deployment across the single market ([source](https://markets.businessinsider.com/news/stocks/carvina-capital-on-eu-s-1-16b-ai-push-1035325000)).\\n\\n2. **Comparison with Global Regulations**: In contrast to the EU AI Act, other countries like South Korea have implemented AI regulations targeting developers and service providers rather than users. While South Korea\\'s Basic AI Act is narrower, it signals increasing global compliance costs and the necessity for industries, including telecommunications, to adopt robust risk-management frameworks ([source](https://www.lightreading.com/ai-machine-learning/new-ai-regulations-in-eu-and-south-korea-signal-rising-compliance-costs-for-telcos-omdia)).\\n\\n3. **Rights Holders\\' Concerns**: There has been criticism regarding the implementation of the EU AI Act, particularly concerning the lack of incorporation of feedback from rights holders. It is noted that the act was meant to protect these stakeholders by ensuring transparency around the use of copyright-protected works by generative AI models, yet their concerns seem to have been overlooked in favor of larger AI model providers ([source](https://publishingperspectives.com/2025/10/jessica-sanger-on-the-eu-ai-act-rights-holders-concerns/)).\\n\\n4. **Ethical Governance and Capability Building**: The EU AI Act includes provisions aimed at enhancing capability and understanding of AI technologies among operators, similar to suggestions of a \"digital driver\\'s license\" for AI, ensuring that users are knowledgeable about the risks and impacts of AI. This reflects a broader intention to preserve human agency in the deployment of AI, echoing global conversations about ethical AI governance ([source](https://www.forbes.com/sites/corneliawalther/2025/10/18/do-we-need-a-digital-drivers-license-for-ai-access/)).\\n\\nThese updates illustrate the EU’s proactive role in shaping global discussions on AI ethics, regulations, and governance, setting a framework that could influence regulations in other regions. The focus on comprehensive training and certification exemplifies Europe\\'s commitment to responsible AI development and deployment.'},\n",
              "  {'tool_name': None, 'tool_call_id': None, 'content': ''},\n",
              "  {'tool_name': 'write_file',\n",
              "   'tool_call_id': 'call_8eXhh11MqHRohGAnBgEp0D7L',\n",
              "   'content': 'Updated file /final_report.md'},\n",
              "  {'tool_name': None,\n",
              "   'tool_call_id': None,\n",
              "   'content': \"I've completed the research and compiled a detailed report on the latest updates of the EU AI Act and its global impact. You can access the full report [here](sandbox:/final_report.md).\"}]}"
            ]
          },
          "metadata": {},
          "execution_count": 87
        }
      ]
    }
  ]
}